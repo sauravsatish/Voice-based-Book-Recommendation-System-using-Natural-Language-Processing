{
 "cells": [
  {
   "cell_type": "code",
   "execution_count": 1,
   "id": "b99dfdd0",
   "metadata": {},
   "outputs": [],
   "source": [
    "import ipywidgets as widgets\n",
    "import pyaudio\n",
    "from IPython.display import display\n",
    "from threading import Thread\n",
    "from queue import Queue\n",
    "import json\n",
    "\n",
    "import numpy as np\n",
    "import pandas as pd\n",
    "import re\n",
    "import spacy\n",
    "import gensim.downloader as api\n",
    "\n",
    "wv = api.load(\"word2vec-google-news-300\")\n",
    "nlp = spacy.load(\"en_core_web_lg\")\n",
    "\n",
    "import speech_recognition as sr\n",
    "listener = sr.Recognizer()"
   ]
  },
  {
   "cell_type": "code",
   "execution_count": 2,
   "id": "49ffcd3d",
   "metadata": {},
   "outputs": [],
   "source": [
    "def take_command():\n",
    "    try:\n",
    "        command = None\n",
    "        with sr.Microphone() as source:\n",
    "            listener.energy_threshold = 10000\n",
    "            listener.adjust_for_ambient_noise(source, duration=1.8)\n",
    "            print('Listening...')\n",
    "            voice = listener.listen(source)\n",
    "            try:\n",
    "                command = listener.recognize_google(voice)\n",
    "            except:\n",
    "                print('I was not able to understand what you said please say it again')\n",
    "                talk('I was not able to understand what you said please say it again')\n",
    "                take_command()\n",
    "            command = command.lower()\n",
    "    except:\n",
    "        pass\n",
    "    return command\n",
    "\n",
    "def lemmatize(s):\n",
    "    filtered = []\n",
    "    doc = nlp(s)\n",
    "    for token in doc:\n",
    "        if token.is_punct or token.is_stop:\n",
    "            continue\n",
    "        else:\n",
    "            filtered.append(token.lemma_)\n",
    "    \n",
    "    return wv.get_mean_vector(filtered)\n"
   ]
  },
  {
   "cell_type": "code",
   "execution_count": 3,
   "id": "67fdecbf",
   "metadata": {},
   "outputs": [],
   "source": [
    "df = pd.read_pickle(\"vectorPreserved.pkl\")"
   ]
  },
  {
   "cell_type": "code",
   "execution_count": 4,
   "id": "ef0dd687",
   "metadata": {
    "scrolled": true
   },
   "outputs": [
    {
     "name": "stdout",
     "output_type": "stream",
     "text": [
      "Listening...\n",
      "result2:\n",
      "{   'alternative': [   {   'confidence': 0.85059845,\n",
      "                           'transcript': 'Harry Potter and JK Rowling'},\n",
      "                       {'transcript': 'Harry Potter and JK Rolling'},\n",
      "                       {'transcript': 'Harry Potter and J K Rowling'}],\n",
      "    'final': True}\n",
      "harry potter and jk rowling\n"
     ]
    }
   ],
   "source": [
    "command = take_command()\n",
    "print(command)\n",
    "\n",
    "text = command\n",
    "w1 = lemmatize(text)\n",
    "sims = wv.most_similar(w1, topn=10)"
   ]
  },
  {
   "cell_type": "code",
   "execution_count": 7,
   "id": "8009d046",
   "metadata": {},
   "outputs": [
    {
     "data": {
      "text/plain": [
       "['Kiklop',\n",
       " 'Clarobscur',\n",
       " 'Avgrunnen',\n",
       " 'Gölgesizler',\n",
       " 'Zaboravljeni sin',\n",
       " 'Sam, ispod šljive',\n",
       " 'S@motność w Sieci',\n",
       " 'Amat',\n",
       " 'Palim Pariz',\n",
       " 'Tuule nimi I raamat']"
      ]
     },
     "execution_count": 7,
     "metadata": {},
     "output_type": "execute_result"
    }
   ],
   "source": [
    "res = []\n",
    "for i, v in enumerate(df['vector']):\n",
    "    val = []\n",
    "    val.append(wv.cosine_similarities(w1, [v]))6\n",
    "    val.append(df['title'][i])\n",
    "    res.append(val)\n",
    "    \n",
    "from operator import itemgetter\n",
    "res = sorted(res, reverse = True)[:10]\n",
    "list(map(itemgetter(1), res))"
   ]
  },
  {
   "cell_type": "code",
   "execution_count": null,
   "id": "94ee6dbe",
   "metadata": {},
   "outputs": [],
   "source": []
  },
  {
   "cell_type": "code",
   "execution_count": 7,
   "id": "41cd3a88",
   "metadata": {},
   "outputs": [],
   "source": []
  },
  {
   "cell_type": "code",
   "execution_count": null,
   "id": "b5a16470",
   "metadata": {},
   "outputs": [],
   "source": []
  },
  {
   "cell_type": "code",
   "execution_count": null,
   "id": "e7ff6c07",
   "metadata": {},
   "outputs": [],
   "source": []
  }
 ],
 "metadata": {
  "kernelspec": {
   "display_name": "Python 3 (ipykernel)",
   "language": "python",
   "name": "python3"
  },
  "language_info": {
   "codemirror_mode": {
    "name": "ipython",
    "version": 3
   },
   "file_extension": ".py",
   "mimetype": "text/x-python",
   "name": "python",
   "nbconvert_exporter": "python",
   "pygments_lexer": "ipython3",
   "version": "3.9.6"
  }
 },
 "nbformat": 4,
 "nbformat_minor": 5
}
