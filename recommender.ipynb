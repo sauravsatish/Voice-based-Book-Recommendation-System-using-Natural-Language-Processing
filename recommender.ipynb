{
 "cells": [
  {
   "cell_type": "code",
   "execution_count": 1,
   "id": "0de5be44",
   "metadata": {},
   "outputs": [],
   "source": [
    "import numpy as np\n",
    "import pandas as pd\n",
    "import re\n",
    "import spacy\n",
    "import gensim.downloader as api\n",
    "\n",
    "wv = api.load(\"word2vec-google-news-300\")\n",
    "nlp = spacy.load(\"en_core_web_lg\")"
   ]
  },
  {
   "cell_type": "code",
   "execution_count": 2,
   "id": "650660e2",
   "metadata": {},
   "outputs": [],
   "source": [
    "def lemmatize(s):\n",
    "    filtered = []\n",
    "    doc = nlp(s)\n",
    "    for token in doc:\n",
    "        if token.is_punct or token.is_stop:\n",
    "            continue\n",
    "        else:\n",
    "            filtered.append(token.lemma_)\n",
    "    \n",
    "    return wv.get_mean_vector(filtered)\n"
   ]
  },
  {
   "cell_type": "code",
   "execution_count": 3,
   "id": "1f7d9f9f",
   "metadata": {},
   "outputs": [
    {
     "data": {
      "text/html": [
       "<div>\n",
       "<style scoped>\n",
       "    .dataframe tbody tr th:only-of-type {\n",
       "        vertical-align: middle;\n",
       "    }\n",
       "\n",
       "    .dataframe tbody tr th {\n",
       "        vertical-align: top;\n",
       "    }\n",
       "\n",
       "    .dataframe thead th {\n",
       "        text-align: right;\n",
       "    }\n",
       "</style>\n",
       "<table border=\"1\" class=\"dataframe\">\n",
       "  <thead>\n",
       "    <tr style=\"text-align: right;\">\n",
       "      <th></th>\n",
       "      <th>title</th>\n",
       "      <th>author</th>\n",
       "      <th>total_description</th>\n",
       "      <th>vector</th>\n",
       "    </tr>\n",
       "  </thead>\n",
       "  <tbody>\n",
       "    <tr>\n",
       "      <th>0</th>\n",
       "      <td>The Hunger Games</td>\n",
       "      <td>Suzanne Collins</td>\n",
       "      <td>The Hunger Games Suzanne Collins WINNING MEANS...</td>\n",
       "      <td>[0.018182825, 0.012704687, 0.016311845, 0.0223...</td>\n",
       "    </tr>\n",
       "    <tr>\n",
       "      <th>1</th>\n",
       "      <td>Harry Potter and the Order of the Phoenix</td>\n",
       "      <td>J.K. Rowling, Mary GrandPré (Illustrator)</td>\n",
       "      <td>Harry Potter and the Order of the Phoenix J.K....</td>\n",
       "      <td>[0.03400975, 0.009458965, -0.0049770977, 0.031...</td>\n",
       "    </tr>\n",
       "    <tr>\n",
       "      <th>2</th>\n",
       "      <td>To Kill a Mockingbird</td>\n",
       "      <td>Harper Lee</td>\n",
       "      <td>To Kill a Mockingbird Harper Lee The unforgett...</td>\n",
       "      <td>[0.029625142, 0.0018953447, -0.00032082314, 0....</td>\n",
       "    </tr>\n",
       "    <tr>\n",
       "      <th>3</th>\n",
       "      <td>Pride and Prejudice</td>\n",
       "      <td>Jane Austen, Anna Quindlen (Introduction)</td>\n",
       "      <td>Pride and Prejudice Jane Austen, Anna Quindlen...</td>\n",
       "      <td>[0.027064538, -0.008683781, -0.017225377, 0.02...</td>\n",
       "    </tr>\n",
       "    <tr>\n",
       "      <th>4</th>\n",
       "      <td>Twilight</td>\n",
       "      <td>Stephenie Meyer</td>\n",
       "      <td>Twilight Stephenie Meyer About three things I ...</td>\n",
       "      <td>[0.037262466, -0.013397643, -0.0030556915, 0.0...</td>\n",
       "    </tr>\n",
       "    <tr>\n",
       "      <th>...</th>\n",
       "      <td>...</td>\n",
       "      <td>...</td>\n",
       "      <td>...</td>\n",
       "      <td>...</td>\n",
       "    </tr>\n",
       "    <tr>\n",
       "      <th>51135</th>\n",
       "      <td>Fractured</td>\n",
       "      <td>Cheri Schmidt (Goodreads Author)</td>\n",
       "      <td>Fractured Cheri Schmidt (Goodreads Author) The...</td>\n",
       "      <td>[0.047261454, 0.004912869, -0.015475881, 0.017...</td>\n",
       "    </tr>\n",
       "    <tr>\n",
       "      <th>51136</th>\n",
       "      <td>Anasazi</td>\n",
       "      <td>Emma Michaels</td>\n",
       "      <td>Anasazi Emma Michaels 'Anasazi', sequel to 'Th...</td>\n",
       "      <td>[0.026166158, 0.0056184847, -0.01872884, 0.033...</td>\n",
       "    </tr>\n",
       "    <tr>\n",
       "      <th>51137</th>\n",
       "      <td>Marked</td>\n",
       "      <td>Kim Richardson (Goodreads Author)</td>\n",
       "      <td>Marked Kim Richardson (Goodreads Author) --REA...</td>\n",
       "      <td>[0.02723042, 0.012943385, -0.0056938934, 0.021...</td>\n",
       "    </tr>\n",
       "    <tr>\n",
       "      <th>51138</th>\n",
       "      <td>Wayward Son</td>\n",
       "      <td>Tom Pollack (Goodreads Author), John Loftus (G...</td>\n",
       "      <td>Wayward Son Tom Pollack (Goodreads Author), Jo...</td>\n",
       "      <td>[0.03913923, 0.0100296885, -0.0007183613, 0.01...</td>\n",
       "    </tr>\n",
       "    <tr>\n",
       "      <th>51139</th>\n",
       "      <td>Daughter of Helaman</td>\n",
       "      <td>Misty Moncur (Goodreads Author)</td>\n",
       "      <td>Daughter of Helaman Misty Moncur (Goodreads Au...</td>\n",
       "      <td>[0.027366405, 0.007664669, -0.006356125, 0.016...</td>\n",
       "    </tr>\n",
       "  </tbody>\n",
       "</table>\n",
       "<p>51140 rows × 4 columns</p>\n",
       "</div>"
      ],
      "text/plain": [
       "                                           title  \\\n",
       "0                               The Hunger Games   \n",
       "1      Harry Potter and the Order of the Phoenix   \n",
       "2                          To Kill a Mockingbird   \n",
       "3                            Pride and Prejudice   \n",
       "4                                       Twilight   \n",
       "...                                          ...   \n",
       "51135                                  Fractured   \n",
       "51136                                    Anasazi   \n",
       "51137                                     Marked   \n",
       "51138                                Wayward Son   \n",
       "51139                        Daughter of Helaman   \n",
       "\n",
       "                                                  author  \\\n",
       "0                                        Suzanne Collins   \n",
       "1              J.K. Rowling, Mary GrandPré (Illustrator)   \n",
       "2                                             Harper Lee   \n",
       "3              Jane Austen, Anna Quindlen (Introduction)   \n",
       "4                                        Stephenie Meyer   \n",
       "...                                                  ...   \n",
       "51135                   Cheri Schmidt (Goodreads Author)   \n",
       "51136                                      Emma Michaels   \n",
       "51137                  Kim Richardson (Goodreads Author)   \n",
       "51138  Tom Pollack (Goodreads Author), John Loftus (G...   \n",
       "51139                    Misty Moncur (Goodreads Author)   \n",
       "\n",
       "                                       total_description  \\\n",
       "0      The Hunger Games Suzanne Collins WINNING MEANS...   \n",
       "1      Harry Potter and the Order of the Phoenix J.K....   \n",
       "2      To Kill a Mockingbird Harper Lee The unforgett...   \n",
       "3      Pride and Prejudice Jane Austen, Anna Quindlen...   \n",
       "4      Twilight Stephenie Meyer About three things I ...   \n",
       "...                                                  ...   \n",
       "51135  Fractured Cheri Schmidt (Goodreads Author) The...   \n",
       "51136  Anasazi Emma Michaels 'Anasazi', sequel to 'Th...   \n",
       "51137  Marked Kim Richardson (Goodreads Author) --REA...   \n",
       "51138  Wayward Son Tom Pollack (Goodreads Author), Jo...   \n",
       "51139  Daughter of Helaman Misty Moncur (Goodreads Au...   \n",
       "\n",
       "                                                  vector  \n",
       "0      [0.018182825, 0.012704687, 0.016311845, 0.0223...  \n",
       "1      [0.03400975, 0.009458965, -0.0049770977, 0.031...  \n",
       "2      [0.029625142, 0.0018953447, -0.00032082314, 0....  \n",
       "3      [0.027064538, -0.008683781, -0.017225377, 0.02...  \n",
       "4      [0.037262466, -0.013397643, -0.0030556915, 0.0...  \n",
       "...                                                  ...  \n",
       "51135  [0.047261454, 0.004912869, -0.015475881, 0.017...  \n",
       "51136  [0.026166158, 0.0056184847, -0.01872884, 0.033...  \n",
       "51137  [0.02723042, 0.012943385, -0.0056938934, 0.021...  \n",
       "51138  [0.03913923, 0.0100296885, -0.0007183613, 0.01...  \n",
       "51139  [0.027366405, 0.007664669, -0.006356125, 0.016...  \n",
       "\n",
       "[51140 rows x 4 columns]"
      ]
     },
     "execution_count": 3,
     "metadata": {},
     "output_type": "execute_result"
    }
   ],
   "source": [
    "df = pd.read_pickle(\"vectorPreserved.pkl\")\n",
    "\n",
    "df"
   ]
  },
  {
   "cell_type": "code",
   "execution_count": 4,
   "id": "c194a5b7",
   "metadata": {},
   "outputs": [],
   "source": [
    "# text = \"\"\"The first book in the Harry Potter series, Harry Potter and the Philosopher’s Stone (1997; also published as Harry Potter and the Sorcerer’s Stone), was released under the name J.K. Rowling. (Her publisher recommended a gender-neutral pen name; born Joanne Rowling, she used J.K., adding the middle name Kathleen.) The book was an immediate success, appealing to both children, who were its intended audience, and adults. \"\"\"\n",
    "text = \"Harry Potter and JK Rowlings\"\n",
    "# similarity = wv.cosine_similarities(w1, [w2])\n",
    "# similarity\n",
    "\n",
    "w1 = lemmatize(text)\n",
    "sims = wv.most_similar(w1, topn=10)"
   ]
  },
  {
   "cell_type": "code",
   "execution_count": 5,
   "id": "e1114521",
   "metadata": {},
   "outputs": [
    {
     "name": "stderr",
     "output_type": "stream",
     "text": [
      "C:\\Users\\saura\\AppData\\Roaming\\Python\\Python39\\site-packages\\gensim\\models\\keyedvectors.py:1162: RuntimeWarning: invalid value encountered in divide\n",
      "  similarities = dot_products / (norm * all_norms)\n"
     ]
    },
    {
     "data": {
      "text/plain": [
       "['Harry Potter Boxed Set, Books 1-5 (Harry Potter, #1-5)',\n",
       " 'The Harry Potter trilogy',\n",
       " 'Turn',\n",
       " 'The Harry Potter Collection 1-4',\n",
       " 'Harry Potter: Film Wizardry',\n",
       " 'Harry Potter and the Cursed Child: Parts One and Two',\n",
       " 'Harry Potter: A History of Magic',\n",
       " 'Harry Potter and the Chamber of Secrets',\n",
       " 'Beyond The Wall Of Sleep',\n",
       " 'Batman: The Man Who Laughs']"
      ]
     },
     "execution_count": 5,
     "metadata": {},
     "output_type": "execute_result"
    }
   ],
   "source": [
    "# wv.cosine_similarities(w1, [df['vector'][2], df['vector'][3], df['vector'][1]])\n",
    "\n",
    "# res = []\n",
    "# for i, v in enumerate(df['vector']):\n",
    "#     val = []\n",
    "#     val.append(wv.cosine_similarities(w1, [v]))\n",
    "#     val.append(df['title'][i])\n",
    "#     res.append(val)\n",
    "# #     res = []\n",
    "# #     res.append((wv.cosine_similarities(w1, v), i))\n",
    "\n",
    "# from operator import itemgetter\n",
    "# res = sorted(res, reverse = True)[:10]\n",
    "# list(map(itemgetter(1), res))"
   ]
  },
  {
   "cell_type": "code",
   "execution_count": 5,
   "id": "b1256a50",
   "metadata": {},
   "outputs": [
    {
     "name": "stderr",
     "output_type": "stream",
     "text": [
      "C:\\Users\\saura\\AppData\\Roaming\\Python\\Python39\\site-packages\\gensim\\models\\keyedvectors.py:1162: RuntimeWarning: invalid value encountered in divide\n",
      "  similarities = dot_products / (norm * all_norms)\n"
     ]
    },
    {
     "data": {
      "text/plain": [
       "['Harry Potter Boxed Set, Books 1-5 (Harry Potter, #1-5)',\n",
       " 'The Harry Potter trilogy',\n",
       " 'Turn',\n",
       " 'The Harry Potter Collection 1-4',\n",
       " 'Harry Potter: Film Wizardry',\n",
       " 'Harry Potter and the Cursed Child: Parts One and Two',\n",
       " 'Harry Potter: A History of Magic',\n",
       " 'Harry Potter and the Chamber of Secrets',\n",
       " 'Beyond The Wall Of Sleep',\n",
       " 'Batman: The Man Who Laughs']"
      ]
     },
     "execution_count": 5,
     "metadata": {},
     "output_type": "execute_result"
    }
   ],
   "source": [
    "res = []\n",
    "for i, v in enumerate(df['vector']):\n",
    "    val = []\n",
    "    val.append(wv.cosine_similarities(w1, [v]))\n",
    "    val.append(df['title'][i])\n",
    "    res.append(val)\n",
    "#     res = []\n",
    "#     res.append((wv.cosine_similarities(w1, v), i))\n",
    "\n",
    "from operator import itemgetter\n",
    "res = sorted(res, reverse = True)[:10]\n",
    "list(map(itemgetter(1), res))"
   ]
  },
  {
   "cell_type": "code",
   "execution_count": null,
   "id": "227f0fed",
   "metadata": {},
   "outputs": [],
   "source": []
  }
 ],
 "metadata": {
  "kernelspec": {
   "display_name": "Python 3 (ipykernel)",
   "language": "python",
   "name": "python3"
  },
  "language_info": {
   "codemirror_mode": {
    "name": "ipython",
    "version": 3
   },
   "file_extension": ".py",
   "mimetype": "text/x-python",
   "name": "python",
   "nbconvert_exporter": "python",
   "pygments_lexer": "ipython3",
   "version": "3.9.6"
  }
 },
 "nbformat": 4,
 "nbformat_minor": 5
}
