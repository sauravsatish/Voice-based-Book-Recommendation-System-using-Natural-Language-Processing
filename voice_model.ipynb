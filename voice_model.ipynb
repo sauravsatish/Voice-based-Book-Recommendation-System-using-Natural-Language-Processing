{
 "cells": [
  {
   "cell_type": "code",
   "execution_count": 1,
   "id": "b68f9982",
   "metadata": {},
   "outputs": [],
   "source": [
    "import speech_recognition as sr\n",
    "listener = sr.Recognizer()"
   ]
  },
  {
   "cell_type": "code",
   "execution_count": 2,
   "id": "035465d2",
   "metadata": {},
   "outputs": [],
   "source": [
    "def take_command():\n",
    "    try:\n",
    "        command = None\n",
    "        with sr.Microphone() as source:\n",
    "            listener.energy_threshold = 10000\n",
    "            listener.adjust_for_ambient_noise(source, duration=1.8)\n",
    "            print('Listening...')\n",
    "            voice = listener.listen(source)\n",
    "            try:\n",
    "                command = listener.recognize_google(voice)\n",
    "            except:\n",
    "                print('I was not able to understand what you said please say it again')\n",
    "                talk('I was not able to understand what you said please say it again')\n",
    "                take_command()\n",
    "            command = command.lower()\n",
    "    except:\n",
    "        pass\n",
    "    return command\n"
   ]
  },
  {
   "cell_type": "code",
   "execution_count": null,
   "id": "6c77c7ef",
   "metadata": {},
   "outputs": [],
   "source": [
    "command = take_command()\n",
    "print(command)"
   ]
  }
 ],
 "metadata": {
  "kernelspec": {
   "display_name": "Python 3 (ipykernel)",
   "language": "python",
   "name": "python3"
  },
  "language_info": {
   "codemirror_mode": {
    "name": "ipython",
    "version": 3
   },
   "file_extension": ".py",
   "mimetype": "text/x-python",
   "name": "python",
   "nbconvert_exporter": "python",
   "pygments_lexer": "ipython3",
   "version": "3.9.6"
  }
 },
 "nbformat": 4,
 "nbformat_minor": 5
}
